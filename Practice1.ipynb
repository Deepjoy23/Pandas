{
 "cells": [
  {
   "cell_type": "markdown",
   "id": "8a5e83c9-df8d-42bf-8ab3-4795260744de",
   "metadata": {},
   "source": [
    "## Pandas"
   ]
  },
  {
   "cell_type": "code",
   "execution_count": 1,
   "id": "dcf7800e-c7d5-4f20-9199-f192e1905455",
   "metadata": {},
   "outputs": [],
   "source": [
    "import pandas as pd #Imporing pandas library"
   ]
  },
  {
   "cell_type": "markdown",
   "id": "746e0b9b-f019-40bb-974c-a877fa92efca",
   "metadata": {},
   "source": [
    "### Row wise data insertion"
   ]
  },
  {
   "cell_type": "code",
   "execution_count": 2,
   "id": "5e9f145e-6442-4fe5-ae5f-ea03a35ea84c",
   "metadata": {},
   "outputs": [
    {
     "name": "stdout",
     "output_type": "stream",
     "text": [
      "    0   1   2\n",
      "0   1   2   3\n",
      "1   4   5   6\n",
      "2   7   8   9\n",
      "3  10  11  12\n"
     ]
    }
   ],
   "source": [
    "a=[[1,2,3],[4,5,6],[7,8,9],[10,11,12]]\n",
    "row_wise=pd.DataFrame(a)\n",
    "print(row_wise)"
   ]
  },
  {
   "cell_type": "code",
   "execution_count": 4,
   "id": "9c56d9bf-6d0c-4d30-a85c-a5e94e20688c",
   "metadata": {},
   "outputs": [
    {
     "name": "stdout",
     "output_type": "stream",
     "text": [
      "   Col1  Col2  Col3\n",
      "0     1     2     3\n",
      "1     4     5     6\n",
      "2     7     8     9\n",
      "3    10    11    12\n"
     ]
    }
   ],
   "source": [
    "a=[[1,2,3],[4,5,6],[7,8,9],[10,11,12]]\n",
    "row_wise=pd.DataFrame(a,columns=[\"Col1\",\"Col2\",\"Col3\"]) #column name is given by user\n",
    "print(row_wise)"
   ]
  },
  {
   "cell_type": "code",
   "execution_count": 5,
   "id": "32cb9c3a-7d76-4410-bebe-46219c58f6fe",
   "metadata": {},
   "outputs": [
    {
     "name": "stdout",
     "output_type": "stream",
     "text": [
      "   Col1  Col2  Col3\n",
      "A     1     2     3\n",
      "B     4     5     6\n",
      "C     7     8     9\n",
      "D    10    11    12\n"
     ]
    }
   ],
   "source": [
    "a=[[1,2,3],[4,5,6],[7,8,9],[10,11,12]]\n",
    "row_wise=pd.DataFrame(a,columns=[\"Col1\",\"Col2\",\"Col3\"],index=[\"A\",\"B\",\"C\",\"D\"]) #column name and index name(row name) is given by user\n",
    "print(row_wise)"
   ]
  },
  {
   "cell_type": "markdown",
   "id": "d4156394-61a4-4915-ab35-fc0450c9fdc9",
   "metadata": {},
   "source": [
    "### Column wise data insertion"
   ]
  },
  {
   "cell_type": "code",
   "execution_count": 8,
   "id": "5bd84a17-73b9-4858-82dd-68c492c33035",
   "metadata": {},
   "outputs": [
    {
     "name": "stdout",
     "output_type": "stream",
     "text": [
      "   Col1  Col2  Col3\n",
      "0     1     2     3\n",
      "1     4     5     6\n",
      "2     7     8     9\n",
      "3    10    11    12\n"
     ]
    }
   ],
   "source": [
    "a= {\n",
    "    \"Col1\" : [1,4,7,10],\n",
    "    \"Col2\" : [2,5,8,11],\n",
    "    \"Col3\" : [3,6,9,12]\n",
    "}\n",
    "column_wise=pd.DataFrame(a)  #column name is given by user which is keys in the dictionary\n",
    "print(column_wise)"
   ]
  },
  {
   "cell_type": "code",
   "execution_count": 9,
   "id": "6fd982ad-afb6-4334-89b9-67a630bc47a3",
   "metadata": {},
   "outputs": [
    {
     "name": "stdout",
     "output_type": "stream",
     "text": [
      "   Col1  Col2  Col3\n",
      "A     1     2     3\n",
      "B     4     5     6\n",
      "C     7     8     9\n",
      "D    10    11    12\n"
     ]
    }
   ],
   "source": [
    "a= {\n",
    "    \"Col1\" : [1,4,7,10],\n",
    "    \"Col2\" : [2,5,8,11],\n",
    "    \"Col3\" : [3,6,9,12]\n",
    "}\n",
    "column_wise=pd.DataFrame(a,index=[\"A\",\"B\",\"C\",\"D\"]) #column name and index name(row name) is given by user\n",
    "print(column_wise)"
   ]
  },
  {
   "cell_type": "code",
   "execution_count": 10,
   "id": "d24c142a-4567-42d1-acfe-1abe9e6bc0ac",
   "metadata": {},
   "outputs": [
    {
     "data": {
      "text/plain": [
       "A     2\n",
       "B     5\n",
       "C     8\n",
       "D    11\n",
       "Name: Col2, dtype: int64"
      ]
     },
     "execution_count": 10,
     "metadata": {},
     "output_type": "execute_result"
    }
   ],
   "source": [
    "# perticular Column values printing\n",
    "column_wise[\"Col2\"]  # We using only Column Name"
   ]
  },
  {
   "cell_type": "code",
   "execution_count": 13,
   "id": "0ba0bfaa-d883-4309-bce5-096aa06e5938",
   "metadata": {},
   "outputs": [
    {
     "data": {
      "text/plain": [
       "Col1    10\n",
       "Col2    11\n",
       "Col3    12\n",
       "Name: D, dtype: int64"
      ]
     },
     "execution_count": 13,
     "metadata": {},
     "output_type": "execute_result"
    }
   ],
   "source": [
    "# perticular Row values printing\n",
    "column_wise.loc[\"D\"] # We using only Row Name in loc attributes "
   ]
  },
  {
   "cell_type": "code",
   "execution_count": 14,
   "id": "83fe9bf8-3abf-432e-aedb-2c48c31abdaf",
   "metadata": {},
   "outputs": [
    {
     "data": {
      "text/plain": [
       "5"
      ]
     },
     "execution_count": 14,
     "metadata": {},
     "output_type": "execute_result"
    }
   ],
   "source": [
    "# Printing a element(5) inside a DataFrame\n",
    "column_wise.loc[\"B\",\"Col2\"]  # We using only Row Name & Column Name in loc attributes--loc(row name,column name) "
   ]
  },
  {
   "cell_type": "code",
   "execution_count": 15,
   "id": "570e729a-c8ea-4665-8ef0-0288fd1f2e17",
   "metadata": {},
   "outputs": [
    {
     "data": {
      "text/html": [
       "<div>\n",
       "<style scoped>\n",
       "    .dataframe tbody tr th:only-of-type {\n",
       "        vertical-align: middle;\n",
       "    }\n",
       "\n",
       "    .dataframe tbody tr th {\n",
       "        vertical-align: top;\n",
       "    }\n",
       "\n",
       "    .dataframe thead th {\n",
       "        text-align: right;\n",
       "    }\n",
       "</style>\n",
       "<table border=\"1\" class=\"dataframe\">\n",
       "  <thead>\n",
       "    <tr style=\"text-align: right;\">\n",
       "      <th></th>\n",
       "      <th>Col1</th>\n",
       "      <th>Col2</th>\n",
       "      <th>Col3</th>\n",
       "    </tr>\n",
       "  </thead>\n",
       "  <tbody>\n",
       "    <tr>\n",
       "      <th>A</th>\n",
       "      <td>1</td>\n",
       "      <td>2</td>\n",
       "      <td>3</td>\n",
       "    </tr>\n",
       "    <tr>\n",
       "      <th>B</th>\n",
       "      <td>4</td>\n",
       "      <td>5</td>\n",
       "      <td>6</td>\n",
       "    </tr>\n",
       "  </tbody>\n",
       "</table>\n",
       "</div>"
      ],
      "text/plain": [
       "   Col1  Col2  Col3\n",
       "A     1     2     3\n",
       "B     4     5     6"
      ]
     },
     "execution_count": 15,
     "metadata": {},
     "output_type": "execute_result"
    }
   ],
   "source": [
    "# Printing elements sequence wise in column a DataFrame\n",
    "column_wise.loc[\"A\":\"B\"] "
   ]
  },
  {
   "cell_type": "code",
   "execution_count": 17,
   "id": "1919d3b7-a5f9-4182-9f38-0e02cac4e51c",
   "metadata": {},
   "outputs": [
    {
     "data": {
      "text/plain": [
       "Col2    2\n",
       "Col3    3\n",
       "Name: A, dtype: int64"
      ]
     },
     "execution_count": 17,
     "metadata": {},
     "output_type": "execute_result"
    }
   ],
   "source": [
    "# Printing elements sequence wise in a DataFrame\n",
    "column_wise.loc[\"A\",\"Col2\":\"Col3\"]"
   ]
  },
  {
   "cell_type": "code",
   "execution_count": 18,
   "id": "7b02f007-9030-426a-8250-5fc11561a434",
   "metadata": {},
   "outputs": [
    {
     "data": {
      "text/plain": [
       "A    3\n",
       "B    6\n",
       "Name: Col3, dtype: int64"
      ]
     },
     "execution_count": 18,
     "metadata": {},
     "output_type": "execute_result"
    }
   ],
   "source": [
    "# Printing elements sequence wise in a DataFrame\n",
    "column_wise.loc[\"A\":\"B\",\"Col3\"]"
   ]
  },
  {
   "cell_type": "code",
   "execution_count": 19,
   "id": "11d6a6cb-aec3-43fa-959b-4934fe75c553",
   "metadata": {},
   "outputs": [
    {
     "data": {
      "text/html": [
       "<div>\n",
       "<style scoped>\n",
       "    .dataframe tbody tr th:only-of-type {\n",
       "        vertical-align: middle;\n",
       "    }\n",
       "\n",
       "    .dataframe tbody tr th {\n",
       "        vertical-align: top;\n",
       "    }\n",
       "\n",
       "    .dataframe thead th {\n",
       "        text-align: right;\n",
       "    }\n",
       "</style>\n",
       "<table border=\"1\" class=\"dataframe\">\n",
       "  <thead>\n",
       "    <tr style=\"text-align: right;\">\n",
       "      <th></th>\n",
       "      <th>Col1</th>\n",
       "      <th>Col2</th>\n",
       "    </tr>\n",
       "  </thead>\n",
       "  <tbody>\n",
       "    <tr>\n",
       "      <th>A</th>\n",
       "      <td>1</td>\n",
       "      <td>2</td>\n",
       "    </tr>\n",
       "    <tr>\n",
       "      <th>B</th>\n",
       "      <td>4</td>\n",
       "      <td>5</td>\n",
       "    </tr>\n",
       "  </tbody>\n",
       "</table>\n",
       "</div>"
      ],
      "text/plain": [
       "   Col1  Col2\n",
       "A     1     2\n",
       "B     4     5"
      ]
     },
     "execution_count": 19,
     "metadata": {},
     "output_type": "execute_result"
    }
   ],
   "source": [
    "# Printing elements sequence wise in a DataFrame\n",
    "column_wise.loc[\"A\":\"B\",\"Col1\":\"Col2\"]"
   ]
  },
  {
   "cell_type": "code",
   "execution_count": 20,
   "id": "c75a6ff7-d817-4905-942f-07dfa497221d",
   "metadata": {},
   "outputs": [
    {
     "data": {
      "text/plain": [
       "Col1    1\n",
       "Col3    3\n",
       "Name: A, dtype: int64"
      ]
     },
     "execution_count": 20,
     "metadata": {},
     "output_type": "execute_result"
    }
   ],
   "source": [
    "# Printing arbitery elements in a DataFrame\n",
    "column_wise.loc[\"A\",[\"Col1\",\"Col3\"]]"
   ]
  },
  {
   "cell_type": "code",
   "execution_count": 22,
   "id": "f1dbaee5-e47e-4409-8568-71fbfe629ed3",
   "metadata": {},
   "outputs": [
    {
     "data": {
      "text/plain": [
       "A     1\n",
       "D    10\n",
       "Name: Col1, dtype: int64"
      ]
     },
     "execution_count": 22,
     "metadata": {},
     "output_type": "execute_result"
    }
   ],
   "source": [
    "# Printing arbitery elements in a DataFrame\n",
    "column_wise.loc[[\"A\",\"D\"],\"Col1\"]"
   ]
  },
  {
   "cell_type": "code",
   "execution_count": 23,
   "id": "e90e8b70-d331-477e-95fa-cc70ccea4633",
   "metadata": {},
   "outputs": [
    {
     "data": {
      "text/html": [
       "<div>\n",
       "<style scoped>\n",
       "    .dataframe tbody tr th:only-of-type {\n",
       "        vertical-align: middle;\n",
       "    }\n",
       "\n",
       "    .dataframe tbody tr th {\n",
       "        vertical-align: top;\n",
       "    }\n",
       "\n",
       "    .dataframe thead th {\n",
       "        text-align: right;\n",
       "    }\n",
       "</style>\n",
       "<table border=\"1\" class=\"dataframe\">\n",
       "  <thead>\n",
       "    <tr style=\"text-align: right;\">\n",
       "      <th></th>\n",
       "      <th>Col1</th>\n",
       "      <th>Col3</th>\n",
       "    </tr>\n",
       "  </thead>\n",
       "  <tbody>\n",
       "    <tr>\n",
       "      <th>A</th>\n",
       "      <td>1</td>\n",
       "      <td>3</td>\n",
       "    </tr>\n",
       "    <tr>\n",
       "      <th>D</th>\n",
       "      <td>10</td>\n",
       "      <td>12</td>\n",
       "    </tr>\n",
       "  </tbody>\n",
       "</table>\n",
       "</div>"
      ],
      "text/plain": [
       "   Col1  Col3\n",
       "A     1     3\n",
       "D    10    12"
      ]
     },
     "execution_count": 23,
     "metadata": {},
     "output_type": "execute_result"
    }
   ],
   "source": [
    "# Printing arbitery elements in a DataFrame\n",
    "column_wise.loc[[\"A\",\"D\"],[\"Col1\",\"Col3\"]]"
   ]
  },
  {
   "cell_type": "code",
   "execution_count": null,
   "id": "0cd4e523-3ee7-4a66-831e-4b10bccb6ab1",
   "metadata": {},
   "outputs": [],
   "source": []
  }
 ],
 "metadata": {
  "kernelspec": {
   "display_name": "Python 3 (ipykernel)",
   "language": "python",
   "name": "python3"
  },
  "language_info": {
   "codemirror_mode": {
    "name": "ipython",
    "version": 3
   },
   "file_extension": ".py",
   "mimetype": "text/x-python",
   "name": "python",
   "nbconvert_exporter": "python",
   "pygments_lexer": "ipython3",
   "version": "3.10.10"
  }
 },
 "nbformat": 4,
 "nbformat_minor": 5
}
